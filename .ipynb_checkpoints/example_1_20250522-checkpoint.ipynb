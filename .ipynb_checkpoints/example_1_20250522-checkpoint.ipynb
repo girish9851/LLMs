{
 "cells": [
  {
   "cell_type": "code",
   "execution_count": 1,
   "id": "698f549b",
   "metadata": {},
   "outputs": [
    {
     "name": "stderr",
     "output_type": "stream",
     "text": [
      "/Users/girishdevkumarchaurasiya/anaconda3/lib/python3.11/site-packages/transformers/utils/generic.py:260: UserWarning: torch.utils._pytree._register_pytree_node is deprecated. Please use torch.utils._pytree.register_pytree_node instead.\n",
      "  torch.utils._pytree._register_pytree_node(\n",
      "No model was supplied, defaulted to sshleifer/distilbart-cnn-12-6 and revision a4f8f3e (https://huggingface.co/sshleifer/distilbart-cnn-12-6).\n",
      "Using a pipeline without specifying a model name and revision in production is not recommended.\n"
     ]
    }
   ],
   "source": [
    "# Install these first:\n",
    "# !pip install wikipedia transformers fastapi uvicorn openai nest_asyncio\n",
    "\n",
    "import wikipedia\n",
    "from fastapi import FastAPI, Query\n",
    "from pydantic import BaseModel\n",
    "from transformers import pipeline\n",
    "import nest_asyncio\n",
    "import uvicorn\n",
    "\n",
    "# 🧠 LLM Summarizer (You can swap this with OpenAI if needed)\n",
    "summarizer = pipeline(\"summarization\")\n",
    "\n",
    "# 🧠 Agent logic\n",
    "class ResearchAgent:\n",
    "    def __init__(self):\n",
    "        self.memory = []\n",
    "\n",
    "    def perceive(self, query):\n",
    "        try:\n",
    "            text = wikipedia.page(query).content[:1000]\n",
    "            self.memory.append({\"perception\": text})\n",
    "            return text\n",
    "        except Exception as e:\n",
    "            return f\"Error fetching data: {e}\"\n",
    "\n",
    "    def act(self, content):\n",
    "        try:\n",
    "            summary = summarizer(content, max_length=100, min_length=30, do_sample=False)[0]['summary_text']\n",
    "            self.memory.append({\"summary\": summary})\n",
    "            return summary\n",
    "        except Exception as e:\n",
    "            return f\"Error summarizing: {e}\"\n",
    "\n",
    "    def reflect(self):\n",
    "        return self.memory[-1] if self.memory else \"Nothing remembered.\"\n",
    "\n",
    "agent = ResearchAgent()\n"
   ]
  },
  {
   "cell_type": "code",
   "execution_count": 2,
   "id": "f39baf74",
   "metadata": {},
   "outputs": [
    {
     "name": "stderr",
     "output_type": "stream",
     "text": [
      "INFO:     Started server process [3459]\n",
      "INFO:     Waiting for application startup.\n",
      "INFO:     Application startup complete.\n",
      "INFO:     Uvicorn running on http://0.0.0.0:8000 (Press CTRL+C to quit)\n"
     ]
    },
    {
     "name": "stdout",
     "output_type": "stream",
     "text": [
      "INFO:     127.0.0.1:51463 - \"GET /docs HTTP/1.1\" 200 OK\n",
      "INFO:     127.0.0.1:51463 - \"GET /openapi.json HTTP/1.1\" 200 OK\n",
      "INFO:     127.0.0.1:51467 - \"POST /ask HTTP/1.1\" 200 OK\n"
     ]
    }
   ],
   "source": [
    "app = FastAPI()\n",
    "\n",
    "class QueryModel(BaseModel):\n",
    "    topic: str\n",
    "\n",
    "@app.get(\"/\")\n",
    "def root():\n",
    "    return {\"message\": \"Agentic AI running\"}\n",
    "\n",
    "@app.post(\"/ask\")\n",
    "def ask_agent(q: QueryModel):\n",
    "    raw = agent.perceive(q.topic)\n",
    "    summary = agent.act(raw)\n",
    "    return {\"topic\": q.topic, \"summary\": summary}\n",
    "\n",
    "# Enable running FastAPI in notebook\n",
    "nest_asyncio.apply()\n",
    "\n",
    "# Start server (inside notebook!)\n",
    "import threading\n",
    "def run():\n",
    "    uvicorn.run(app, host=\"0.0.0.0\", port=8000)\n",
    "\n",
    "threading.Thread(target=run).start()"
   ]
  },
  {
   "cell_type": "code",
   "execution_count": null,
   "id": "c0888171",
   "metadata": {},
   "outputs": [],
   "source": []
  }
 ],
 "metadata": {
  "kernelspec": {
   "display_name": "Python 3 (ipykernel)",
   "language": "python",
   "name": "python3"
  },
  "language_info": {
   "codemirror_mode": {
    "name": "ipython",
    "version": 3
   },
   "file_extension": ".py",
   "mimetype": "text/x-python",
   "name": "python",
   "nbconvert_exporter": "python",
   "pygments_lexer": "ipython3",
   "version": "3.11.5"
  }
 },
 "nbformat": 4,
 "nbformat_minor": 5
}
